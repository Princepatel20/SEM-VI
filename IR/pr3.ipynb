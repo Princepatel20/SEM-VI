// Perform the implementation to find the Zipf’ Distribution of a text file.
import re
import collections
import matplotlib.pyplot as plt
def zipf(file_path):
with open(file_path, 'r', encoding='utf-8') as file:
text = file.read()
words = re.findall(r'\b\w+\b', text.lower())
word_counts = collections.Counter(words)
sorted_word_counts = sorted(word_counts.items(), key=lambda x: x[1], reverse=True)
frequencies = [count for _, count in sorted_word_counts]
ranks = list(range(1, len(frequencies) + 1))
plt.scatter(ranks, frequencies, marker='.')
plt.xscale('log')
plt.yscale('log')
plt.title("Zipf's Distribution")
plt.xlabel('Rank (log scale)')
plt.ylabel('Frequency (log scale)')
plt.show()
if __name__ == "__main__":
file_path = '/content/drive/My Drive/prince.txt'
zipf(file_path)
